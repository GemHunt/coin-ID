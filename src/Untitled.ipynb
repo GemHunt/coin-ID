{
 "cells": [
  {
   "cell_type": "code",
   "execution_count": 10,
   "metadata": {
    "collapsed": true
   },
   "outputs": [],
   "source": [
    "import cv2, os\n",
    "import coin\n",
    "from coin import Coin\n",
    "from make_coins import make_coin\n",
    "import numpy as np\n",
    "from matplotlib import pyplot as plt\n",
    "%matplotlib inline\n",
    "from scipy import misc"
   ]
  },
  {
   "cell_type": "code",
   "execution_count": 11,
   "metadata": {
    "collapsed": false
   },
   "outputs": [],
   "source": [
    "random_files = np.random.choice(os.listdir('/data2/processed/whole'),5)\n"
   ]
  },
  {
   "cell_type": "code",
   "execution_count": 12,
   "metadata": {
    "collapsed": false
   },
   "outputs": [],
   "source": [
    "random_whole = [Coin().load('/data2/processed/whole/' + item ) for item in random_files]"
   ]
  },
  {
   "cell_type": "code",
   "execution_count": 17,
   "metadata": {
    "collapsed": false
   },
   "outputs": [
    {
     "data": {
      "text/plain": [
       "array(['4082220.npy', '2038817.npy', '4036839.npy', '7049602.npy',\n",
       "       '6066910.npy'], \n",
       "      dtype='|S12')"
      ]
     },
     "execution_count": 17,
     "metadata": {},
     "output_type": "execute_result"
    }
   ],
   "source": [
    "random_files"
   ]
  },
  {
   "cell_type": "code",
   "execution_count": 19,
   "metadata": {
    "collapsed": false
   },
   "outputs": [],
   "source": [
    "f = os.listdir('/data/whole')[15]\n",
    "make_coin(('/data/whole/'+f,False,(128,128),'/home/ubuntu/coin/'))\n",
    "c = Coin().load('/home/ubuntu/coin/'+f[:-4]+'.npy')"
   ]
  },
  {
   "cell_type": "code",
   "execution_count": 14,
   "metadata": {
    "collapsed": false
   },
   "outputs": [
    {
     "data": {
      "text/plain": [
       "array([[[ 0.92578125,  0.9296875 ,  0.89453125],\n",
       "        [ 0.9453125 ,  0.953125  ,  0.8984375 ],\n",
       "        [ 0.96875   ,  0.9765625 ,  0.921875  ],\n",
       "        ..., \n",
       "        [ 0.88671875,  0.8515625 ,  0.765625  ],\n",
       "        [ 0.85546875,  0.84765625,  0.76171875],\n",
       "        [ 0.81640625,  0.85546875,  0.76953125]],\n",
       "\n",
       "       [[ 0.8984375 ,  0.90234375,  0.87109375],\n",
       "        [ 0.859375  ,  0.8671875 ,  0.80859375],\n",
       "        [ 0.82421875,  0.83203125,  0.7734375 ],\n",
       "        ..., \n",
       "        [ 0.70703125,  0.65234375,  0.5390625 ],\n",
       "        [ 0.6015625 ,  0.5859375 ,  0.4765625 ],\n",
       "        [ 0.60546875,  0.64453125,  0.5390625 ]],\n",
       "\n",
       "       [[ 0.75390625,  0.73046875,  0.671875  ],\n",
       "        [ 0.62109375,  0.56640625,  0.50390625],\n",
       "        [ 0.5625    ,  0.515625  ,  0.453125  ],\n",
       "        ..., \n",
       "        [ 0.58984375,  0.49609375,  0.3046875 ],\n",
       "        [ 0.52734375,  0.44921875,  0.23828125],\n",
       "        [ 0.66015625,  0.609375  ,  0.37890625]],\n",
       "\n",
       "       ..., \n",
       "       [[ 0.99609375,  0.99609375,  0.99609375],\n",
       "        [ 0.99609375,  0.99609375,  0.99609375],\n",
       "        [ 0.99609375,  0.99609375,  0.99609375],\n",
       "        ..., \n",
       "        [ 0.99609375,  0.99609375,  0.99609375],\n",
       "        [ 0.99609375,  0.99609375,  0.99609375],\n",
       "        [ 0.99609375,  0.99609375,  0.99609375]],\n",
       "\n",
       "       [[ 0.99609375,  0.99609375,  0.99609375],\n",
       "        [ 0.99609375,  0.99609375,  0.99609375],\n",
       "        [ 0.99609375,  0.99609375,  0.99609375],\n",
       "        ..., \n",
       "        [ 0.99609375,  0.99609375,  0.99609375],\n",
       "        [ 0.99609375,  0.99609375,  0.99609375],\n",
       "        [ 0.99609375,  0.99609375,  0.99609375]],\n",
       "\n",
       "       [[ 0.99609375,  0.99609375,  0.99609375],\n",
       "        [ 0.99609375,  0.99609375,  0.99609375],\n",
       "        [ 0.99609375,  0.99609375,  0.99609375],\n",
       "        ..., \n",
       "        [ 0.99609375,  0.99609375,  0.99609375],\n",
       "        [ 0.99609375,  0.99609375,  0.99609375],\n",
       "        [ 0.99609375,  0.99609375,  0.99609375]]])"
      ]
     },
     "execution_count": 14,
     "metadata": {},
     "output_type": "execute_result"
    }
   ],
   "source": []
  },
  {
   "cell_type": "code",
   "execution_count": 38,
   "metadata": {
    "collapsed": false
   },
   "outputs": [],
   "source": [
    "c2 = Coin().load('/home/ubuntu/coin/test.npy')"
   ]
  },
  {
   "cell_type": "code",
   "execution_count": 40,
   "metadata": {
    "collapsed": false
   },
   "outputs": [
    {
     "data": {
      "text/plain": [
       "array([[[ 0.92578125,  0.9296875 ,  0.89453125],\n",
       "        [ 0.9453125 ,  0.953125  ,  0.8984375 ],\n",
       "        [ 0.96875   ,  0.9765625 ,  0.921875  ],\n",
       "        ..., \n",
       "        [ 0.88671875,  0.8515625 ,  0.765625  ],\n",
       "        [ 0.85546875,  0.84765625,  0.76171875],\n",
       "        [ 0.81640625,  0.85546875,  0.76953125]],\n",
       "\n",
       "       [[ 0.8984375 ,  0.90234375,  0.87109375],\n",
       "        [ 0.859375  ,  0.8671875 ,  0.80859375],\n",
       "        [ 0.82421875,  0.83203125,  0.7734375 ],\n",
       "        ..., \n",
       "        [ 0.70703125,  0.65234375,  0.5390625 ],\n",
       "        [ 0.6015625 ,  0.5859375 ,  0.4765625 ],\n",
       "        [ 0.60546875,  0.64453125,  0.5390625 ]],\n",
       "\n",
       "       [[ 0.75390625,  0.73046875,  0.671875  ],\n",
       "        [ 0.62109375,  0.56640625,  0.50390625],\n",
       "        [ 0.5625    ,  0.515625  ,  0.453125  ],\n",
       "        ..., \n",
       "        [ 0.58984375,  0.49609375,  0.3046875 ],\n",
       "        [ 0.52734375,  0.44921875,  0.23828125],\n",
       "        [ 0.66015625,  0.609375  ,  0.37890625]],\n",
       "\n",
       "       ..., \n",
       "       [[ 0.99609375,  0.99609375,  0.99609375],\n",
       "        [ 0.99609375,  0.99609375,  0.99609375],\n",
       "        [ 0.99609375,  0.99609375,  0.99609375],\n",
       "        ..., \n",
       "        [ 0.99609375,  0.99609375,  0.99609375],\n",
       "        [ 0.99609375,  0.99609375,  0.99609375],\n",
       "        [ 0.99609375,  0.99609375,  0.99609375]],\n",
       "\n",
       "       [[ 0.99609375,  0.99609375,  0.99609375],\n",
       "        [ 0.99609375,  0.99609375,  0.99609375],\n",
       "        [ 0.99609375,  0.99609375,  0.99609375],\n",
       "        ..., \n",
       "        [ 0.99609375,  0.99609375,  0.99609375],\n",
       "        [ 0.99609375,  0.99609375,  0.99609375],\n",
       "        [ 0.99609375,  0.99609375,  0.99609375]],\n",
       "\n",
       "       [[ 0.99609375,  0.99609375,  0.99609375],\n",
       "        [ 0.99609375,  0.99609375,  0.99609375],\n",
       "        [ 0.99609375,  0.99609375,  0.99609375],\n",
       "        ..., \n",
       "        [ 0.99609375,  0.99609375,  0.99609375],\n",
       "        [ 0.99609375,  0.99609375,  0.99609375],\n",
       "        [ 0.99609375,  0.99609375,  0.99609375]]])"
      ]
     },
     "execution_count": 40,
     "metadata": {},
     "output_type": "execute_result"
    }
   ],
   "source": []
  },
  {
   "cell_type": "code",
   "execution_count": 48,
   "metadata": {
    "collapsed": false
   },
   "outputs": [],
   "source": [
    "make_coin(('/data/whole/'+os.listdir('/data/whole')[10],False,(128,128),'/home/ubuntu/coin/'))"
   ]
  },
  {
   "cell_type": "code",
   "execution_count": 52,
   "metadata": {
    "collapsed": false,
    "scrolled": true
   },
   "outputs": [
    {
     "name": "stdout",
     "output_type": "stream",
     "text": [
      "2001887.npy  \u001b[0m\u001b[01;34mdata\u001b[0m/  \u001b[01;34mmodel\u001b[0m/  README.md  \u001b[01;34msrc\u001b[0m/  test.npy\r\n"
     ]
    }
   ],
   "source": [
    "ls"
   ]
  },
  {
   "cell_type": "code",
   "execution_count": 53,
   "metadata": {
    "collapsed": false
   },
   "outputs": [
    {
     "data": {
      "text/plain": [
       "<coinclasses.coin.Coin instance at 0x7f3f31388e18>"
      ]
     },
     "execution_count": 53,
     "metadata": {},
     "output_type": "execute_result"
    }
   ],
   "source": [
    "Coin().load('2001887.npy')"
   ]
  },
  {
   "cell_type": "code",
   "execution_count": 62,
   "metadata": {
    "collapsed": false
   },
   "outputs": [
    {
     "ename": "ImportError",
     "evalue": "No module named coin",
     "output_type": "error",
     "traceback": [
      "\u001b[1;31m---------------------------------------------------------------------------\u001b[0m",
      "\u001b[1;31mImportError\u001b[0m                               Traceback (most recent call last)",
      "\u001b[1;32m<ipython-input-62-337f87168738>\u001b[0m in \u001b[0;36m<module>\u001b[1;34m()\u001b[0m\n\u001b[1;32m----> 1\u001b[1;33m \u001b[0mrandom_whole\u001b[0m \u001b[1;33m=\u001b[0m \u001b[1;33m[\u001b[0m\u001b[0mCoin\u001b[0m\u001b[1;33m(\u001b[0m\u001b[1;33m)\u001b[0m\u001b[1;33m.\u001b[0m\u001b[0mload\u001b[0m\u001b[1;33m(\u001b[0m\u001b[1;34m'/data2/processed/whole/'\u001b[0m \u001b[1;33m+\u001b[0m \u001b[0mitem\u001b[0m \u001b[1;33m)\u001b[0m \u001b[1;32mfor\u001b[0m \u001b[0mitem\u001b[0m \u001b[1;32min\u001b[0m \u001b[0mrandom_files\u001b[0m\u001b[1;33m]\u001b[0m\u001b[1;33m\u001b[0m\u001b[0m\n\u001b[0m",
      "\u001b[1;32mcoinclasses/coin.pyc\u001b[0m in \u001b[0;36mload\u001b[1;34m(self, file_name)\u001b[0m\n",
      "\u001b[1;32m/home/ubuntu/anaconda2/lib/python2.7/site-packages/numpy/lib/npyio.pyc\u001b[0m in \u001b[0;36mload\u001b[1;34m(file, mmap_mode, allow_pickle, fix_imports, encoding)\u001b[0m\n\u001b[0;32m    404\u001b[0m             \u001b[1;32melse\u001b[0m\u001b[1;33m:\u001b[0m\u001b[1;33m\u001b[0m\u001b[0m\n\u001b[0;32m    405\u001b[0m                 return format.read_array(fid, allow_pickle=allow_pickle,\n\u001b[1;32m--> 406\u001b[1;33m                                          pickle_kwargs=pickle_kwargs)\n\u001b[0m\u001b[0;32m    407\u001b[0m         \u001b[1;32melse\u001b[0m\u001b[1;33m:\u001b[0m\u001b[1;33m\u001b[0m\u001b[0m\n\u001b[0;32m    408\u001b[0m             \u001b[1;31m# Try a pickle\u001b[0m\u001b[1;33m\u001b[0m\u001b[1;33m\u001b[0m\u001b[0m\n",
      "\u001b[1;32m/home/ubuntu/anaconda2/lib/python2.7/site-packages/numpy/lib/format.pyc\u001b[0m in \u001b[0;36mread_array\u001b[1;34m(fp, allow_pickle, pickle_kwargs)\u001b[0m\n\u001b[0;32m    636\u001b[0m             \u001b[0mpickle_kwargs\u001b[0m \u001b[1;33m=\u001b[0m \u001b[1;33m{\u001b[0m\u001b[1;33m}\u001b[0m\u001b[1;33m\u001b[0m\u001b[0m\n\u001b[0;32m    637\u001b[0m         \u001b[1;32mtry\u001b[0m\u001b[1;33m:\u001b[0m\u001b[1;33m\u001b[0m\u001b[0m\n\u001b[1;32m--> 638\u001b[1;33m             \u001b[0marray\u001b[0m \u001b[1;33m=\u001b[0m \u001b[0mpickle\u001b[0m\u001b[1;33m.\u001b[0m\u001b[0mload\u001b[0m\u001b[1;33m(\u001b[0m\u001b[0mfp\u001b[0m\u001b[1;33m,\u001b[0m \u001b[1;33m**\u001b[0m\u001b[0mpickle_kwargs\u001b[0m\u001b[1;33m)\u001b[0m\u001b[1;33m\u001b[0m\u001b[0m\n\u001b[0m\u001b[0;32m    639\u001b[0m         \u001b[1;32mexcept\u001b[0m \u001b[0mUnicodeError\u001b[0m \u001b[1;32mas\u001b[0m \u001b[0merr\u001b[0m\u001b[1;33m:\u001b[0m\u001b[1;33m\u001b[0m\u001b[0m\n\u001b[0;32m    640\u001b[0m             \u001b[1;32mif\u001b[0m \u001b[0msys\u001b[0m\u001b[1;33m.\u001b[0m\u001b[0mversion_info\u001b[0m\u001b[1;33m[\u001b[0m\u001b[1;36m0\u001b[0m\u001b[1;33m]\u001b[0m \u001b[1;33m>=\u001b[0m \u001b[1;36m3\u001b[0m\u001b[1;33m:\u001b[0m\u001b[1;33m\u001b[0m\u001b[0m\n",
      "\u001b[1;31mImportError\u001b[0m: No module named coin"
     ]
    }
   ],
   "source": [
    "random_whole = [Coin().load('/data2/processed/whole/' + item ) for item in random_files]"
   ]
  },
  {
   "cell_type": "code",
   "execution_count": 4,
   "metadata": {
    "collapsed": false
   },
   "outputs": [],
   "source": [
    "f = '/data2/processed/whole/' + random_files[0]"
   ]
  },
  {
   "cell_type": "code",
   "execution_count": 5,
   "metadata": {
    "collapsed": false
   },
   "outputs": [
    {
     "ename": "ImportError",
     "evalue": "No module named coin",
     "output_type": "error",
     "traceback": [
      "\u001b[1;31m---------------------------------------------------------------------------\u001b[0m",
      "\u001b[1;31mImportError\u001b[0m                               Traceback (most recent call last)",
      "\u001b[1;32m<ipython-input-5-da065e122168>\u001b[0m in \u001b[0;36m<module>\u001b[1;34m()\u001b[0m\n\u001b[1;32m----> 1\u001b[1;33m \u001b[0mnp\u001b[0m\u001b[1;33m.\u001b[0m\u001b[0mload\u001b[0m\u001b[1;33m(\u001b[0m\u001b[0mf\u001b[0m\u001b[1;33m)\u001b[0m\u001b[1;33m\u001b[0m\u001b[0m\n\u001b[0m",
      "\u001b[1;32m/home/ubuntu/anaconda2/lib/python2.7/site-packages/numpy/lib/npyio.pyc\u001b[0m in \u001b[0;36mload\u001b[1;34m(file, mmap_mode, allow_pickle, fix_imports, encoding)\u001b[0m\n\u001b[0;32m    404\u001b[0m             \u001b[1;32melse\u001b[0m\u001b[1;33m:\u001b[0m\u001b[1;33m\u001b[0m\u001b[0m\n\u001b[0;32m    405\u001b[0m                 return format.read_array(fid, allow_pickle=allow_pickle,\n\u001b[1;32m--> 406\u001b[1;33m                                          pickle_kwargs=pickle_kwargs)\n\u001b[0m\u001b[0;32m    407\u001b[0m         \u001b[1;32melse\u001b[0m\u001b[1;33m:\u001b[0m\u001b[1;33m\u001b[0m\u001b[0m\n\u001b[0;32m    408\u001b[0m             \u001b[1;31m# Try a pickle\u001b[0m\u001b[1;33m\u001b[0m\u001b[1;33m\u001b[0m\u001b[0m\n",
      "\u001b[1;32m/home/ubuntu/anaconda2/lib/python2.7/site-packages/numpy/lib/format.pyc\u001b[0m in \u001b[0;36mread_array\u001b[1;34m(fp, allow_pickle, pickle_kwargs)\u001b[0m\n\u001b[0;32m    636\u001b[0m             \u001b[0mpickle_kwargs\u001b[0m \u001b[1;33m=\u001b[0m \u001b[1;33m{\u001b[0m\u001b[1;33m}\u001b[0m\u001b[1;33m\u001b[0m\u001b[0m\n\u001b[0;32m    637\u001b[0m         \u001b[1;32mtry\u001b[0m\u001b[1;33m:\u001b[0m\u001b[1;33m\u001b[0m\u001b[0m\n\u001b[1;32m--> 638\u001b[1;33m             \u001b[0marray\u001b[0m \u001b[1;33m=\u001b[0m \u001b[0mpickle\u001b[0m\u001b[1;33m.\u001b[0m\u001b[0mload\u001b[0m\u001b[1;33m(\u001b[0m\u001b[0mfp\u001b[0m\u001b[1;33m,\u001b[0m \u001b[1;33m**\u001b[0m\u001b[0mpickle_kwargs\u001b[0m\u001b[1;33m)\u001b[0m\u001b[1;33m\u001b[0m\u001b[0m\n\u001b[0m\u001b[0;32m    639\u001b[0m         \u001b[1;32mexcept\u001b[0m \u001b[0mUnicodeError\u001b[0m \u001b[1;32mas\u001b[0m \u001b[0merr\u001b[0m\u001b[1;33m:\u001b[0m\u001b[1;33m\u001b[0m\u001b[0m\n\u001b[0;32m    640\u001b[0m             \u001b[1;32mif\u001b[0m \u001b[0msys\u001b[0m\u001b[1;33m.\u001b[0m\u001b[0mversion_info\u001b[0m\u001b[1;33m[\u001b[0m\u001b[1;36m0\u001b[0m\u001b[1;33m]\u001b[0m \u001b[1;33m>=\u001b[0m \u001b[1;36m3\u001b[0m\u001b[1;33m:\u001b[0m\u001b[1;33m\u001b[0m\u001b[0m\n",
      "\u001b[1;31mImportError\u001b[0m: No module named coin"
     ]
    }
   ],
   "source": [
    "np.load(f)"
   ]
  },
  {
   "cell_type": "code",
   "execution_count": null,
   "metadata": {
    "collapsed": true
   },
   "outputs": [],
   "source": []
  }
 ],
 "metadata": {
  "kernelspec": {
   "display_name": "Python [Root]",
   "language": "python",
   "name": "Python [Root]"
  },
  "language_info": {
   "codemirror_mode": {
    "name": "ipython",
    "version": 2
   },
   "file_extension": ".py",
   "mimetype": "text/x-python",
   "name": "python",
   "nbconvert_exporter": "python",
   "pygments_lexer": "ipython2",
   "version": "2.7.12"
  }
 },
 "nbformat": 4,
 "nbformat_minor": 0
}
